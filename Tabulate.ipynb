{
 "cells": [
  {
   "cell_type": "code",
   "execution_count": 4,
   "metadata": {},
   "outputs": [],
   "source": [
    "import psycopg2\n",
    "import gdal\n",
    "import shapely\n",
    "import geopandas\n",
    "from osgeo import ogr\n",
    "from osgeo import osr\n",
    "import os, subprocess\n\n",
    "#local settings\n",
    "local_postgresql_path = r';C:\Program Files\PostgreSQL\13\bin'\n",
    "host = 'localhost'\n",
    "port = '5432'\n",
    "user = 'my_username'\n",
    "password = 'my_password'\n",
    "database = 'my_database'\n"
   ]
  },
  {
   "cell_type": "code",
   "execution_count": null,
   "metadata": {},
   "outputs": [],
   "source": [
    "#load counties shp to postgreSQL\n",
    "#polygonize landcover raster (to shp)\n",
    "#load landcover shp to postgreSQL\n",
    "#intersect landcover shp with HI counties\n",
    "#sum area of developed area, high intensity (class 24) within each county\n",
    "#divide dev area by county area for percent of highly developed land area"
   ]
  },
  {
   "cell_type": "code",
   "execution_count": 8,
   "metadata": {},
   "outputs": [],
   "source": [
    "os.environ['PATH'] += local_postgresql_path\n",
    "os.environ['PGHOST'] = host\n",
    "os.environ['PGPORT'] = port\n",
    "os.environ['PGUSER'] = user\n",
    "os.environ['PGPASSWORD'] = password\n",
    "os.environ['PGDATABASE'] = database\n",
    "\n",
    "driver = ogr.GetDriverByName('ESRI Shapefile')\n",
    "\n",
    "shape_path = 'C:/Users/cstanton/Documents/Personal/DBMS/Final Project/TIGER_counties/tl_2021_us_county.shp'\n",
    "cmds = 'shp2pgsql -s 4269 \"' + shape_path + '\" counties | psql '\n",
    "subprocess.call(cmds, shell=True)"
   ]
  },
  {
   "cell_type": "code",
   "execution_count": 3,
   "metadata": {},
   "outputs": [],
   "source": [
    "#raster_path = r\"C:/Users/cstanton/Documents/Personal/DBMS/Final Project/HI_NLCD/hi_landcover_wimperv_9-30-08_se5.img\"\n",
    "#cmds = 'raster2pgsql \"' + raster_path + '\" landcover_HI | psql '\n",
    "#subprocess.call(cmds, shell=True)\n",
    "\n",
    "base_dir = r\"C:/Users/cstanton/Documents/Personal/DBMS/Final Project/HI_NLCD\"\n",
    "full_dir = os.walk(base_dir)\n",
    "raster_list = []\n",
    "for source, dirs, files in full_dir:\n",
    "    for file_ in files:\n",
    "        if file_[-3:] == 'img':\n",
    "            raster_path = os.path.join(base_dir, file_)\n",
    "            raster_list.append(raster_path)\n",
    "for raster_path in raster_list:\n",
    "    cmds = 'raster2pgsql \"' + raster_path + '\" landcover_HI | psql '\n",
    "    subprocess.call(cmds, shell=True)"
   ]
  },
  {
   "cell_type": "code",
   "execution_count": 34,
   "metadata": {},
   "outputs": [
    {
     "data": {
      "text/plain": [
       "0"
      ]
     },
     "execution_count": 34,
     "metadata": {},
     "output_type": "execute_result"
    }
   ],
   "source": [
    "gdal.UseExceptions()\n",
    "\n",
    "#\n",
    "#  get raster datasource\n",
    "#\n",
    "src_ds = gdal.Open( \"C:/Users/cstanton/Documents/Personal/DBMS/Final Project/HI_NLCD/hi_landcover_wimperv_9-30-08_se5.img\" )\n",
    "if src_ds is None:\n",
    "    print('Unable to open %s' % src_filename)\n",
    "    sys.exit(1)\n",
    "\n",
    "try:\n",
    "    srcband = src_ds.GetRasterBand(1)\n",
    "except RuntimeError as e:\n",
    "    # for example, try GetRasterBand(10)\n",
    "    print('Band ( %i ) not found' % band_num)\n",
    "    print(e)\n",
    "    sys.exit(1)\n",
    "\n",
    "#\n",
    "#  create output datasource\n",
    "#\n",
    "dst_layername = \"POLYGONIZED_STUFF\"\n",
    "drv = ogr.GetDriverByName(\"ESRI Shapefile\")\n",
    "dst_ds = drv.CreateDataSource(dst_layername + \".shp\" )\n",
    "dst_layer = dst_ds.CreateLayer(dst_layername, srs = None )\n",
    "\n",
    "gdal.Polygonize(srcband, None, dst_layer, -1, [], callback=None )"
   ]
  },
  {
   "cell_type": "code",
   "execution_count": null,
   "metadata": {},
   "outputs": [],
   "source": [
    "base_dir = r\"C:/Users/cstanton/Documents/Personal/DBMS/Final Project/\"\n",
    "full_dir = os.walk(base_dir)\n",
    "connection = psycopg2.connect(database=\"tabulate\",user=\"postgres\", password=\"your_password\")\n",
    "#cursor = connection.cursor()\n",
    "#cursor.execute(\"DROP TABLE IF EXISTS landcover_HI\")\n",
    "shapefile_list = []\n",
    "for source, dirs, files in full_dir:\n",
    "    for file_ in files:\n",
    "        if file_[-3:] == 'shp':\n",
    "            shapefile_path = os.path.join(base_dir, file_)\n",
    "            shapefile_list.append(shapefile_path)\n",
    "for shape_path in shapefile_list:\n",
    "    cmds = 'shp2pgsql \"' + shape_path + '\" landcover_HI | psql '\n",
    "    subprocess.call(cmds, shell=True)"
   ]
  }
 ],
 "metadata": {
  "kernelspec": {
   "display_name": "Python 3 (ipykernel)",
   "language": "python",
   "name": "python3"
  },
  "language_info": {
   "codemirror_mode": {
    "name": "ipython",
    "version": 3
   },
   "file_extension": ".py",
   "mimetype": "text/x-python",
   "name": "python",
   "nbconvert_exporter": "python",
   "pygments_lexer": "ipython3",
   "version": "3.8.12"
  }
 },
 "nbformat": 4,
 "nbformat_minor": 4
}
