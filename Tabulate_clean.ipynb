{
 "cells": [
  {
   "cell_type": "code",
   "execution_count": 8,
   "id": "88d10f6a",
   "metadata": {},
   "outputs": [],
   "source": [
    "import psycopg2\n",
    "import gdal\n",
    "import shapely\n",
    "import geopandas\n",
    "from osgeo import ogr\n",
    "from osgeo import osr\n",
    "import os, subprocess\n",
    "\n"
   ]
  },
  {
   "cell_type": "code",
   "execution_count": null,
   "id": "a39817d7",
   "metadata": {},
   "outputs": [],
   "source": [
    "#local settings\n",
    "local_postgresql_path = r';C:\\Program Files\\PostgreSQL\\13\\bin'\n",
    "host = 'localhost'\n",
    "port = '5432'\n",
    "user = 'my_username'\n",
    "password = 'my_password'\n",
    "database = 'my_database'"
   ]
  },
  {
   "cell_type": "code",
   "execution_count": null,
   "id": "b05398f5",
   "metadata": {},
   "outputs": [],
   "source": [
    "#load counties shp to postgreSQL\n",
    "#save off: select * from counties where statefps = '15' \n",
    "#polygonize landcover raster (to shp)\n",
    "#load landcover shp to postgreSQL\n",
    "#intersect landcover shp with HI counties (state fips 15)\n",
    "#sum area of developed area, high intensity (class 24) within each county\n",
    "#divide dev area by county area for percent of highly developed land area"
   ]
  },
  {
   "cell_type": "code",
   "execution_count": 10,
   "id": "50aaeb79",
   "metadata": {},
   "outputs": [],
   "source": [
    "def load_shp(shape, srid, tablename):\n",
    "    driver = ogr.GetDriverByName('ESRI Shapefile')\n",
    "    cmds = 'shp2pgsql -s ' + srid + ' -d \"' + shape + '\" ' + tablename + ' | psql '\n",
    "    subprocess.call(cmds, shell=True)\n",
    "    print(cmds)"
   ]
  },
  {
   "cell_type": "code",
   "execution_count": 11,
   "id": "29ae3a21",
   "metadata": {},
   "outputs": [
    {
     "name": "stdout",
     "output_type": "stream",
     "text": [
      "shp2pgsql -s 4269 -d \"C:/Users/cstanton/Documents/Personal/DBMS/FinalProject/TIGER_counties/tl_2021_us_county.shp\" counties | psql \n"
     ]
    }
   ],
   "source": [
    "os.environ['PATH'] += local_postgresql_path\n",
    "os.environ['PGHOST'] = host\n",
    "os.environ['PGPORT'] = port\n",
    "os.environ['PGUSER'] = user\n",
    "os.environ['PGPASSWORD'] = password\n",
    "os.environ['PGDATABASE'] = database\n",
    "\n",
    "shape_path = r\"C:/Users/cstanton/Documents/Personal/DBMS/FinalProject/TIGER_counties/tl_2021_us_county.shp\"\n",
    "load_shp(shape_path, '4269', 'counties')"
   ]
  },
  {
   "cell_type": "code",
   "execution_count": 5,
   "id": "9e7e495c",
   "metadata": {},
   "outputs": [
    {
     "name": "stdout",
     "output_type": "stream",
     "text": [
      "PROJCS[\"Albers Conical Equal Area\",GEOGCS[\"WGS 84\",DATUM[\"WGS_1984\",SPHEROID[\"WGS 84\",6378137,298.257223563,AUTHORITY[\"EPSG\",\"7030\"]],TOWGS84[0,0,0,0,0,0,0],AUTHORITY[\"EPSG\",\"6326\"]],PRIMEM[\"Greenwich\",0,AUTHORITY[\"EPSG\",\"8901\"]],UNIT[\"degree\",0.0174532925199433,AUTHORITY[\"EPSG\",\"9122\"]],AUTHORITY[\"EPSG\",\"4326\"]],PROJECTION[\"Albers_Conic_Equal_Area\"],PARAMETER[\"latitude_of_center\",3],PARAMETER[\"longitude_of_center\",-157],PARAMETER[\"standard_parallel_1\",8],PARAMETER[\"standard_parallel_2\",18],PARAMETER[\"false_easting\",0],PARAMETER[\"false_northing\",0],UNIT[\"meters\",1],AXIS[\"Easting\",EAST],AXIS[\"Northing\",NORTH]]\n",
      "Albers Conical Equal Area\n",
      "WGS 84\n"
     ]
    }
   ],
   "source": [
    "raster = gdal.Open(r\"C:/Users/cstanton/Documents/Personal/DBMS/FinalProject/HI_NLCD/hi_landcover_wimperv_9-30-08_se5.img\")\n",
    "srcband = raster.GetRasterBand(1)\n",
    "\n",
    "prj = raster.GetProjection()\n",
    "srs=osr.SpatialReference(wkt=prj)\n",
    "dst_layername = 'polygonized_test.shp'\n",
    "drv = ogr.GetDriverByName(\"ESRI Shapefile\")\n",
    "dst_ds = drv.CreateDataSource(dst_layername)\n",
    "dst_layer = dst_ds.CreateLayer(dst_layername, srs=srs)\n",
    "fd = ogr.FieldDefn(\"DN\", ogr.OFTInteger)\n",
    "dst_layer.CreateField(fd)\n",
    "dst_field = dst_layer.GetLayerDefn().GetFieldIndex(\"DN\")\n",
    "gdal.Polygonize(srcband, None, dst_layer, dst_field, [], callback=None)\n",
    "print(\"Raster vectorized\")"
   ]
  },
  {
   "cell_type": "code",
   "execution_count": 18,
   "id": "19264f6e",
   "metadata": {
    "scrolled": true
   },
   "outputs": [
    {
     "name": "stdout",
     "output_type": "stream",
     "text": [
      "shp2pgsql -s 4269 -d \"C:/Users/cstanton/Documents/Personal/DBMS/FinalProject/polygonized_test.shp\" landcover_HI | psql \n"
     ]
    }
   ],
   "source": [
    "shape_path = r\"C:/Users/cstanton/Documents/Personal/DBMS/FinalProject/polygonized_test.shp\"\n",
    "load_shp(shape_path,'4269','landcover_HI')"
   ]
  }
 ],
 "metadata": {
  "kernelspec": {
   "display_name": "Python 3 (ipykernel)",
   "language": "python",
   "name": "python3"
  },
  "language_info": {
   "codemirror_mode": {
    "name": "ipython",
    "version": 3
   },
   "file_extension": ".py",
   "mimetype": "text/x-python",
   "name": "python",
   "nbconvert_exporter": "python",
   "pygments_lexer": "ipython3",
   "version": "3.8.12"
  }
 },
 "nbformat": 4,
 "nbformat_minor": 5
}
