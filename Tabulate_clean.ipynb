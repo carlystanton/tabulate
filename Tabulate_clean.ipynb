{
 "cells": [
  {
   "cell_type": "code",
   "execution_count": null,
   "id": "88d10f6a",
   "metadata": {},
   "outputs": [],
   "source": [
    "import psycopg2\n",
    "import gdal\n",
    "import shapely\n",
    "import geopandas\n",
    "from osgeo import ogr\n",
    "from osgeo import osr\n",
    "import os, subprocess\n",
    "\n",
    "#local settings\n",
    "local_postgresql_path = r';C:\\Program Files\\PostgreSQL\\13\\bin'\n",
    "host = 'localhost'\n",
    "port = '5432'\n",
    "user = 'my_username'\n",
    "password = 'my_password'\n",
    "database = 'my_database'"
   ]
  },
  {
   "cell_type": "code",
   "execution_count": null,
   "id": "b05398f5",
   "metadata": {},
   "outputs": [],
   "source": [
    "#load counties shp to postgreSQL\n",
    "#save off: select * from counties where statefps = '15' \n",
    "#polygonize landcover raster (to shp)\n",
    "#load landcover shp to postgreSQL\n",
    "#intersect landcover shp with HI counties (state fips 15)\n",
    "#sum area of developed area, high intensity (class 24) within each county\n",
    "#divide dev area by county area for percent of highly developed land area"
   ]
  },
  {
   "cell_type": "code",
   "execution_count": null,
   "id": "29ae3a21",
   "metadata": {},
   "outputs": [],
   "source": [
    "os.environ['PATH'] += local_postgresql_path\n",
    "os.environ['PGHOST'] = host\n",
    "os.environ['PGPORT'] = port\n",
    "os.environ['PGUSER'] = user\n",
    "os.environ['PGPASSWORD'] = password\n",
    "os.environ['PGDATABASE'] = database\n",
    "\n",
    "driver = ogr.GetDriverByName('ESRI Shapefile')\n",
    "\n",
    "#replace with local shapefile path\n",
    "shape_path = r\"C:/Users/cstanton/Documents/Personal/DBMS/Final Project/TIGER_counties/tl_2021_us_county.shp\"\n",
    "cmds = 'shp2pgsql -s 4269 \"' + shape_path + '\" counties | psql '\n",
    "subprocess.call(cmds, shell=True)\n",
    "print(cmds)"
   ]
  }
 ],
 "metadata": {
  "kernelspec": {
   "display_name": "Python 3 (ipykernel)",
   "language": "python",
   "name": "python3"
  },
  "language_info": {
   "codemirror_mode": {
    "name": "ipython",
    "version": 3
   },
   "file_extension": ".py",
   "mimetype": "text/x-python",
   "name": "python",
   "nbconvert_exporter": "python",
   "pygments_lexer": "ipython3",
   "version": "3.8.12"
  }
 },
 "nbformat": 4,
 "nbformat_minor": 5
}
